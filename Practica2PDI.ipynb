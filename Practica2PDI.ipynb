{
  "nbformat": 4,
  "nbformat_minor": 0,
  "metadata": {
    "colab": {
      "provenance": []
    },
    "kernelspec": {
      "name": "python3",
      "display_name": "Python 3"
    },
    "language_info": {
      "name": "python"
    }
  },
  "cells": [
    {
      "cell_type": "markdown",
      "source": [
        "# Practica 2\n",
        "Utilizando una herramienta de PDI, en este caso opencv, realice lo siguiente\n",
        "* Construccion de tres imagenes binarias de figuras geometricas basicas\n",
        "* Pruebe los operadores logicos sobre las figuras geometricas construidas\n",
        "* Pruebe las transformaciones geometricas sobre las figuras geometricas construidas\n",
        "* Pruebe los operadores aritmeticos sobre imagenes de 8-bits"
      ],
      "metadata": {
        "id": "DQ4r51tmmz7J"
      }
    },
    {
      "cell_type": "code",
      "execution_count": null,
      "metadata": {
        "colab": {
          "base_uri": "https://localhost:8080/"
        },
        "id": "ArI0e7W3ku-X",
        "outputId": "13912aa3-bb66-4568-9d20-bee9ca969465"
      },
      "outputs": [
        {
          "output_type": "stream",
          "name": "stdout",
          "text": [
            "Requirement already satisfied: opencv-python in /usr/local/lib/python3.10/dist-packages (4.10.0.84)\n",
            "Requirement already satisfied: numpy>=1.21.2 in /usr/local/lib/python3.10/dist-packages (from opencv-python) (1.26.4)\n"
          ]
        }
      ],
      "source": [
        "pip install opencv-python"
      ]
    },
    {
      "cell_type": "code",
      "source": [
        "import cv2\n",
        "import numpy as np\n",
        "from google.colab.patches import cv2_imshow"
      ],
      "metadata": {
        "id": "qDecIV2Fk2K2"
      },
      "execution_count": null,
      "outputs": []
    },
    {
      "cell_type": "markdown",
      "source": [
        "Definicion del tamano de las imagenes, el ancho por alto"
      ],
      "metadata": {
        "id": "sT0kwsr6K6Hi"
      }
    },
    {
      "cell_type": "code",
      "source": [
        "# Tamaño de la imagen\n",
        "img_size = 300"
      ],
      "metadata": {
        "id": "rSMzy2dvlDVk"
      },
      "execution_count": null,
      "outputs": []
    },
    {
      "cell_type": "code",
      "source": [
        "# Crear una imagen negra\n",
        "square = np.zeros((img_size, img_size), dtype=np.uint8)\n",
        "rectangle = np.zeros((img_size, img_size), dtype=np.uint8)\n",
        "hexagon = np.zeros((img_size, img_size), dtype=np.uint8)\n",
        "print(square)"
      ],
      "metadata": {
        "colab": {
          "base_uri": "https://localhost:8080/"
        },
        "id": "VN3AfVGfl9_M",
        "outputId": "aa549330-8339-4f2e-c74e-35d5dfce0b07"
      },
      "execution_count": null,
      "outputs": [
        {
          "output_type": "stream",
          "name": "stdout",
          "text": [
            "[[0 0 0 ... 0 0 0]\n",
            " [0 0 0 ... 0 0 0]\n",
            " [0 0 0 ... 0 0 0]\n",
            " ...\n",
            " [0 0 0 ... 0 0 0]\n",
            " [0 0 0 ... 0 0 0]\n",
            " [0 0 0 ... 0 0 0]]\n"
          ]
        }
      ]
    },
    {
      "cell_type": "code",
      "source": [
        "# Dibujar un cuadrado blanco en la imagen\n",
        "cv2.rectangle(square, (50, 50), (150, 150), 255, -1)\n",
        "\n",
        "# Dibujar un rectángulo blanco en la imagen\n",
        "cv2.rectangle(rectangle, (50, 100), (200, 200), 255, -1)\n",
        "\n",
        "# Dibujar un hexágono blanco en la imagen\n",
        "pts = np.array([[150, 50], [250, 100], [250, 200], [150, 250], [50, 200], [50, 100]], np.int32)\n",
        "pts = pts.reshape((-1, 1, 2))\n",
        "cv2.fillPoly(hexagon, [pts], 255)"
      ],
      "metadata": {
        "id": "Yr0YJlajmE7p",
        "colab": {
          "base_uri": "https://localhost:8080/",
          "height": 340
        },
        "outputId": "d9c3efa2-678e-49d6-cacc-3f6d4aab2e15"
      },
      "execution_count": null,
      "outputs": [
        {
          "output_type": "execute_result",
          "data": {
            "text/plain": [
              "array([[0, 0, 0, ..., 0, 0, 0],\n",
              "       [0, 0, 0, ..., 0, 0, 0],\n",
              "       [0, 0, 0, ..., 0, 0, 0],\n",
              "       ...,\n",
              "       [0, 0, 0, ..., 0, 0, 0],\n",
              "       [0, 0, 0, ..., 0, 0, 0],\n",
              "       [0, 0, 0, ..., 0, 0, 0]], dtype=uint8)"
            ],
            "text/html": [
              "<style>\n",
              "      .ndarray_repr .ndarray_raw_data {\n",
              "        display: none;\n",
              "      }\n",
              "      .ndarray_repr.show_array .ndarray_raw_data {\n",
              "        display: block;\n",
              "      }\n",
              "      .ndarray_repr.show_array .ndarray_image_preview {\n",
              "        display: none;\n",
              "      }\n",
              "      </style>\n",
              "      <div id=\"id-c02eda81-41be-4ed4-903c-13cc8da25c2a\" class=\"ndarray_repr\"><pre>ndarray (300, 300) <button style=\"padding: 0 2px;\">show data</button></pre><img src=\"data:image/png;base64,iVBORw0KGgoAAAANSUhEUgAAASwAAAEsCAAAAABcFtGpAAAEBElEQVR4nO3d224TQRRE0YL//2fzgFC4OImrz7XD3u8op5YAKTOWLBERERERERERERERERERERERERERERERERERERER/Uc9HtMXPOvb9AHP+im177R9F+ntL9W247bdoz///e06b9c1+ve/qk0HbrrlCZW06cQ9l7xDJe05cssdH1BJW87cccUnVNKOQzfc8AKVtOHU+QtepJLmj53++QaVNH3uMJb/K+DkwaNYZ78tz508iHX+YGHq6DGs2DOYmbOHsOKPqyYOH8HKebLXf/oAVt5D0O7j27Fynxf3nt+Mlf9ovXNAK1bNW4i+CY1YdS9suka0YdW+2+qZ0YRV/xqwY0gLVs8b0/opDVh9L5erx5Rj9b6Hr51TjNX/kYXKQaVYM5/uqJtUiDX3QZiqUWVYs58ZqplVhDX/8aqKYSVY81RSxbQCrB1UUv64dKw9VFL2vGSsXVRS7sBUrH1UUubERKydVFLeyDSsvVRS1swkrN1UUs7QFKz9VFLG1ASsO6ik+Ngw1j1UUnRuEOsuKik2OIR1H5UUmRzAupNKOh99jHUvlXQ6+xDrbirpbPgR1v1U0sn0A6yvQaWD7d8rrviqgWUElhFYRmAZgWUElhFYRmAZgWUElhFYRmAZgWUElhFYRmAZgWUElhFYRmAZgWUElhFYRmAZgWUElhFYRmAZgWUElhFYRmAZgWUElhFYRmAZgWUElhFYRmAZgWUElhFYRmAZgWUElhFYRmAZgWUElhFYRmAZgWUElhFYRmAZgWUElhFYRmAZgWUElhFYRmAZgWUElhFYRmAZgWUElhFYRmAZgWUElhFYRmAZgWUElhFYRmAZgWUElhFYRmAZgWUElhFYRmAZgWUElhFYRmAZgWUElhFYRmAZgWUElhFYRnzbb+mfkPQVuNq+R1q6nav1G8qlm7lORwewbuU6nxzCupErMjiIdRtXbG4Y6yau6NgErFu44lNTsG7gyhiahLWdK2dmGtZmrqyRiVhbufImpmJt5MocmIy1jSt3XjrWJq7scQVYW7jyp5VgbeCqGFaENc1VM6sMa5KralQh1hRX3aRSrAmuykHFWN1ctXPKsTq5qsc0YHVx1U9pwerg6hjShFXN1TOjDauSq2tEI1YVV9+EVqwKrs4BzVjZXL3nt2NlcnUfP4CVxdV/+ghWBtfE4UNYUa6Zs8ewIlxTRw9inXLNnTyKdcI1efAwlss1e+44lsM1fez0z5f0Ktf8qfMXSHqFa8OhG26Q9BnXjjN3XCHpI64tR265Q9J7XHtO3HOJpGdcmw7cdIukv7l2nbfrGkm/c207bts9kn5xrTxtY4/5D3gRERERERERERERERERERERERERERERERERERERUawf02ZoKKnsx2kAAAAASUVORK5CYII=\" class=\"ndarray_image_preview\" /><pre class=\"ndarray_raw_data\">array([[0, 0, 0, ..., 0, 0, 0],\n",
              "       [0, 0, 0, ..., 0, 0, 0],\n",
              "       [0, 0, 0, ..., 0, 0, 0],\n",
              "       ...,\n",
              "       [0, 0, 0, ..., 0, 0, 0],\n",
              "       [0, 0, 0, ..., 0, 0, 0],\n",
              "       [0, 0, 0, ..., 0, 0, 0]], dtype=uint8)</pre></div><script>\n",
              "      (() => {\n",
              "      const titles = ['show data', 'hide data'];\n",
              "      let index = 0\n",
              "      document.querySelector('#id-c02eda81-41be-4ed4-903c-13cc8da25c2a button').onclick = (e) => {\n",
              "        document.querySelector('#id-c02eda81-41be-4ed4-903c-13cc8da25c2a').classList.toggle('show_array');\n",
              "        index = (++index) % 2;\n",
              "        document.querySelector('#id-c02eda81-41be-4ed4-903c-13cc8da25c2a button').textContent = titles[index];\n",
              "        e.preventDefault();\n",
              "        e.stopPropagation();\n",
              "      }\n",
              "      })();\n",
              "    </script>"
            ]
          },
          "metadata": {},
          "execution_count": 9
        }
      ]
    },
    {
      "cell_type": "code",
      "source": [
        "# Mostrar las imágenes generadas\n",
        "cv2_imshow(square)\n",
        "cv2_imshow(rectangle)\n",
        "cv2_imshow(hexagon)"
      ],
      "metadata": {
        "id": "t71UjDa2pCFg",
        "colab": {
          "base_uri": "https://localhost:8080/",
          "height": 917
        },
        "outputId": "3b5e1963-7e59-469c-9aef-8bf9ea2c469d"
      },
      "execution_count": null,
      "outputs": [
        {
          "output_type": "display_data",
          "data": {
            "text/plain": [
              "<PIL.Image.Image image mode=L size=300x300>"
            ],
            "image/png": "[encoded data removed]",
            "image/jpeg": "[encoded data removed]"
          },
          "metadata": {}
        },
        {
          "output_type": "display_data",
          "data": {
            "text/plain": [
              "<PIL.Image.Image image mode=L size=300x300>"
            ],
            "image/png": "[encoded data removed]",
            "image/jpeg": "[encoded data removed]"
          },
          "metadata": {}
        },
        {
          "output_type": "display_data",
          "data": {
            "text/plain": [
              "<PIL.Image.Image image mode=L size=300x300>"
            ],
            "image/png": "[encoded data removed]",
            "image/jpeg": "[encoded data removed]"
          },
          "metadata": {}
        }
      ]
    },
    {
      "cell_type": "code",
      "source": [
        "# Guardar las imágenes\n",
        "cv2.imwrite('cuadrado.png', square)\n",
        "cv2.imwrite('rectangulo.png', rectangle)\n",
        "cv2.imwrite('hexagono.png', hexagon)"
      ],
      "metadata": {
        "colab": {
          "base_uri": "https://localhost:8080/"
        },
        "id": "gkYO8t82JkLL",
        "outputId": "cf8a7c25-df5c-4c7f-ad1b-0f8e3e5fc3c5"
      },
      "execution_count": null,
      "outputs": [
        {
          "output_type": "execute_result",
          "data": {
            "text/plain": [
              "True"
            ]
          },
          "metadata": {},
          "execution_count": 14
        }
      ]
    },
    {
      "cell_type": "markdown",
      "source": [
        "# Definicion de las operaciones aritmeticas\n",
        "Definimos las operaciones aritmeticas basicas"
      ],
      "metadata": {
        "id": "j-qkdgnaJySG"
      }
    },
    {
      "cell_type": "code",
      "source": [
        "# Traslación (mover la imagen)\n",
        "def traslacion(img, x, y):\n",
        "    M = np.float32([[1, 0, x], [0, 1, y]])\n",
        "    return cv2.warpAffine(img, M, (img.shape[1], img.shape[0]))"
      ],
      "metadata": {
        "id": "LW9fkkOGJr9p"
      },
      "execution_count": null,
      "outputs": []
    },
    {
      "cell_type": "code",
      "source": [
        "# Rotación\n",
        "def rotacion(img, angle):\n",
        "    (h, w) = img.shape[:2]\n",
        "    center = (w // 2, h // 2)\n",
        "    M = cv2.getRotationMatrix2D(center, angle, 1.0)\n",
        "    return cv2.warpAffine(img, M, (w, h))"
      ],
      "metadata": {
        "id": "AQt9LflDJ1ym"
      },
      "execution_count": null,
      "outputs": []
    },
    {
      "cell_type": "code",
      "source": [
        "# Escalado\n",
        "def escalado(img, scale_x, scale_y):\n",
        "    return cv2.resize(img, None, fx=scale_x, fy=scale_y)"
      ],
      "metadata": {
        "id": "QxyfngbhJ3Yk"
      },
      "execution_count": null,
      "outputs": []
    },
    {
      "cell_type": "markdown",
      "source": [
        "# Operadores logicos\n",
        "sobre las imagenes aplicar los operadores logicos\n"
      ],
      "metadata": {
        "id": "VVOBZaz6J8Nr"
      }
    },
    {
      "cell_type": "code",
      "source": [
        "# Operadores lógicos\n",
        "and_op = cv2.bitwise_and(square, rectangle)\n",
        "or_op = cv2.bitwise_or(square, rectangle)\n",
        "xor_op = cv2.bitwise_xor(square, hexagon)\n",
        "not_op = cv2.bitwise_not(square)"
      ],
      "metadata": {
        "id": "Y5bO_S8SJ4tg"
      },
      "execution_count": null,
      "outputs": []
    },
    {
      "cell_type": "code",
      "source": [
        "# Mostrar resultados\n",
        "cv2_imshow(and_op) #'AND (Cuadrado AND Rectángulo)',\n",
        "cv2_imshow(or_op)  # 'OR (Cuadrado OR Rectángulo)',\n",
        "cv2_imshow(xor_op) # 'XOR (Cuadrado XOR Hexágono)',\n",
        "cv2_imshow(not_op) # 'NOT (Cuadrado)',"
      ],
      "metadata": {
        "colab": {
          "base_uri": "https://localhost:8080/",
          "height": 1000
        },
        "id": "hec6mM5PKDdp",
        "outputId": "58aa0506-096f-4f6d-87a3-0ec1e7b60829"
      },
      "execution_count": null,
      "outputs": [
        {
          "output_type": "display_data",
          "data": {
            "text/plain": [
              "<PIL.Image.Image image mode=L size=300x300>"
            ],
            "image/png": "[encoded data removed]",
            "image/jpeg": "[encoded data removed]"
          },
          "metadata": {}
        },
        {
          "output_type": "display_data",
          "data": {
            "text/plain": [
              "<PIL.Image.Image image mode=L size=300x300>"
            ],
            "image/png": "[encoded data removed]",
            "image/jpeg": "[encoded data removed]"
          },
          "metadata": {}
        },
        {
          "output_type": "display_data",
          "data": {
            "text/plain": [
              "<PIL.Image.Image image mode=L size=300x300>"
            ],
            "image/png": "[encoded data removed]",
            "image/jpeg": "[encoded data removed]"
          },
          "metadata": {}
        },
        {
          "output_type": "display_data",
          "data": {
            "text/plain": [
              "<PIL.Image.Image image mode=L size=300x300>"
            ],
            "image/png": "[encoded data removed]",
            "image/jpeg": "[encoded data removed]"
          },
          "metadata": {}
        }
      ]
    },
    {
      "cell_type": "code",
      "source": [
        "# Guardar las imágenes resultantes\n",
        "cv2.imwrite('and_op.png', and_op)\n",
        "cv2.imwrite('or_op.png', or_op)\n",
        "cv2.imwrite('xor_op.png', xor_op)\n",
        "cv2.imwrite('not_op.png', not_op)"
      ],
      "metadata": {
        "colab": {
          "base_uri": "https://localhost:8080/"
        },
        "id": "g485A2juKV0p",
        "outputId": "1d1a6451-a88b-4af5-9a43-f4a2c1a8eea4"
      },
      "execution_count": null,
      "outputs": [
        {
          "output_type": "execute_result",
          "data": {
            "text/plain": [
              "True"
            ]
          },
          "metadata": {},
          "execution_count": 20
        }
      ]
    },
    {
      "cell_type": "markdown",
      "source": [],
      "metadata": {
        "id": "5gUFVYmbKb9U"
      }
    },
    {
      "cell_type": "markdown",
      "source": [
        "# Aplicacion de las transformaciones"
      ],
      "metadata": {
        "id": "Uhd9Ahp6KlSN"
      }
    },
    {
      "cell_type": "code",
      "source": [
        "# Aplicar las transformaciones\n",
        "square_translated = traslacion(square, 50, 50)\n",
        "rectangle_rotated = rotacion(rectangle, 45)\n",
        "hexagon_scaled = escalado(hexagon, 0.5, 0.5)"
      ],
      "metadata": {
        "id": "OWPwVV46KZwr"
      },
      "execution_count": null,
      "outputs": []
    },
    {
      "cell_type": "code",
      "source": [
        "# Mostrar las imágenes transformadas\n",
        "cv2_imshow(square_translated) #Cuadrado Trasladado\n",
        "cv2_imshow(rectangle_rotated) # Rectángulo Rotado\n",
        "cv2_imshow(hexagon_scaled) # Hexágono Escalado"
      ],
      "metadata": {
        "colab": {
          "base_uri": "https://localhost:8080/",
          "height": 767
        },
        "id": "1nTFE7T_KnT5",
        "outputId": "58b928d7-73ca-4e7a-e36d-c067d19b3fe9"
      },
      "execution_count": null,
      "outputs": [
        {
          "output_type": "display_data",
          "data": {
            "text/plain": [
              "<PIL.Image.Image image mode=L size=300x300>"
            ],
            "image/png": "[encoded data removed]",
            "image/jpeg": "[encoded data removed]"
          },
          "metadata": {}
        },
        {
          "output_type": "display_data",
          "data": {
            "text/plain": [
              "<PIL.Image.Image image mode=L size=300x300>"
            ],
            "image/png": "[encoded data removed]",
            "image/jpeg": "[encoded data removed]"
          },
          "metadata": {}
        },
        {
          "output_type": "display_data",
          "data": {
            "text/plain": [
              "<PIL.Image.Image image mode=L size=150x150>"
            ],
            "image/png": "[encoded data removed]",
            "image/jpeg": "[encoded data removed]"
          },
          "metadata": {}
        }
      ]
    },
    {
      "cell_type": "code",
      "source": [
        "# Guardar las imágenes transformadas\n",
        "cv2.imwrite('square_translated.png', square_translated)\n",
        "cv2.imwrite('rectangle_rotated.png', rectangle_rotated)\n",
        "cv2.imwrite('hexagon_scaled.png', hexagon_scaled)"
      ],
      "metadata": {
        "colab": {
          "base_uri": "https://localhost:8080/"
        },
        "id": "CMVY4n_GKrXJ",
        "outputId": "bfc17d7d-c0fe-451d-e546-aa5817f11f9f"
      },
      "execution_count": null,
      "outputs": [
        {
          "output_type": "execute_result",
          "data": {
            "text/plain": [
              "True"
            ]
          },
          "metadata": {},
          "execution_count": 24
        }
      ]
    },
    {
      "cell_type": "code",
      "source": [],
      "metadata": {
        "id": "Dj2WLEuyK3Bq"
      },
      "execution_count": null,
      "outputs": []
    }
  ]
}